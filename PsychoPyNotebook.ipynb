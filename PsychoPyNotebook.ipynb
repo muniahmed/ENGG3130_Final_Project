{
 "cells": [
  {
   "cell_type": "markdown",
   "metadata": {},
   "source": [
    "# PsychoPy\n",
    "## Authors: Jeremy Hube, Ahmed Muni, Harshal Patel, Blake Purdie\n",
    "\n",
    "PsychoPy is a simulation meant to extend upon the base prisoner's dilema originally framed by Merrill Flood and melvin Dresher. Our extension is designed to more accurately simulate how people take previous experiences and adjust their \"strategy\" for dealing with similar situations in the future."
   ]
  },
  {
   "cell_type": "code",
   "execution_count": 30,
   "metadata": {},
   "outputs": [],
   "source": [
    "import random\n",
    "import copy"
   ]
  },
  {
   "cell_type": "markdown",
   "metadata": {},
   "source": [
    "## Functions"
   ]
  },
  {
   "cell_type": "markdown",
   "metadata": {},
   "source": [
    "The function `printInfo` just goes through the full list of players and prints anything about the player, including their name and type and their strategy and fitness."
   ]
  },
  {
   "cell_type": "code",
   "execution_count": 31,
   "metadata": {},
   "outputs": [],
   "source": [
    "def printInfo(people):\n",
    "    for i in range(0, len(people)):\n",
    "        print(\"Person\", people[i].identifier)\n",
    "        print(\"Type:\", people[i].type)\n",
    "        print(\"Strategy: {none:\", people[i].strategy[None], \", C:\", people[i].strategy[\"C\"], \", D:\",\n",
    "              people[i].strategy[\"D\"], \"}\")\n",
    "        print(\"Fitness:\", people[i].totalFitness)\n",
    "        print()"
   ]
  },
  {
   "cell_type": "markdown",
   "metadata": {},
   "source": [
    "`printIndividual` does the same thing as `printInfo` but for an individual player"
   ]
  },
  {
   "cell_type": "code",
   "execution_count": 32,
   "metadata": {},
   "outputs": [],
   "source": [
    "def printIndividualInfo(people, identifier):\n",
    "    for i in range(0, len(people)):\n",
    "        if people[i].identifier == identifier:\n",
    "            break\n",
    "\n",
    "    print(\"------\")\n",
    "    print(\"Person: \", people[i].identifier)\n",
    "    print(\"Type: \", people[i].type)\n",
    "    print(\"Fitness: \", people[i].totalFitness, \"(\",people[i].roundFitness,\")\")\n",
    "    print(\"Strategy: {none:\", people[i].strategy[None], \", C:\", people[i].strategy[\"C\"], \", D:\",\n",
    "          people[i].strategy[\"D\"], \"}\")\n",
    "    print(\"Opponent: \", people[i].opponent.identifier)\n",
    "    print(\"Opponent Type: \", people[i].opponent.type)\n",
    "    print(\"Opponent Strategy: {none:\", people[i].opponent.strategy[None], \", C:\", people[i].opponent.strategy[\"C\"],\n",
    "          \", D:\",\n",
    "          people[i].opponent.strategy[\"D\"], \"}\")\n",
    "    print(\"------\")"
   ]
  },
  {
   "cell_type": "markdown",
   "metadata": {},
   "source": [
    "The `resetFitness` function takes the roud fitness gained and adds it to the totalFitness for each player in the game, and resets their round fitness for next round. This is used to differentiate the points gained form one round to another."
   ]
  },
  {
   "cell_type": "code",
   "execution_count": 33,
   "metadata": {},
   "outputs": [],
   "source": [
    "def resetFitness(people):\n",
    "    for i in range(0, len(people)):\n",
    "        people[i].totalFitness += people[i].roundFitness\n",
    "        people[i].roundFitness = 0"
   ]
  },
  {
   "cell_type": "markdown",
   "metadata": {},
   "source": [
    "This function is the biggest function in the simulation. The playGame function does what its name implies and it plays the game. The game is a variation of the prisoner's dilema, designed to more accurately simulate how a human would make their decisions when dealing with many similar situations in a row, slowly changing their decision making as they either do well or poorly."
   ]
  },
  {
   "cell_type": "code",
   "execution_count": 34,
   "metadata": {},
   "outputs": [],
   "source": [
    "def playGame(player1, player2):\n",
    "    minChance = 0.0 # minimum possible chance to cooperate \n",
    "    maxChance = 1.0 # maximum possible chance to cooperate\n",
    "    previous1 = None # Player1's previous choice\n",
    "    previous2 = None # Player2's previous choice\n",
    "    current1 = None # Player1's current choice\n",
    "    current2 = None # Player2's current choice\n",
    "\n",
    "    for i in range(0, 5): # Play 5 rounds\n",
    "        rand1 = random.random() # Have a random number between 0 and 1\n",
    "        rand2 = random.random()\n",
    "        if rand1 >= player1.strategy[previous2]: # If the random number is greater than the percentage found in the strategy then they defect\n",
    "            current1 = \"D\"\n",
    "        elif rand1 < player1.strategy[previous2]: # Otherwise they cooperate\n",
    "            current1 = \"C\"\n",
    "\n",
    "        if rand2 >= player2.strategy[previous1]:\n",
    "            current2 = \"D\"\n",
    "        elif rand2 < player2.strategy[previous1]:\n",
    "            current2 = \"C\"\n",
    "\n",
    "        previous1 = current1 # Update previous move for use in the next round\n",
    "        previous2 = current2\n",
    "        if current1 == \"D\" and current2 == \"D\": # If player1 and player2 defect\n",
    "            player1.roundFitness += 1 # They both get 1 point\n",
    "            player2.roundFitness += 1\n",
    "            player1.strategy[previous2] = min(maxChance, player1.strategy[previous2] + 0.1) # And they both increase their chance to cooperate from that point onward as they are unsatisfied with 1 point\n",
    "            player2.strategy[previous1] = min(maxChance, player2.strategy[previous1] + 0.1)\n",
    "        elif current1 == \"D\" and current2 == \"C\": # If player1 defects and player2 cooperates\n",
    "            player1.roundFitness += 3 # Player1 gets 3 points\n",
    "            player2.roundFitness += 0 # player2 gets 0 points\n",
    "            player1.strategy[previous2] = max(minChance, player1.strategy[previous2] - 0.1) #Player1 decreases their chance to cooperate in the future as they have been rewarded for defecting\n",
    "            player2.strategy[previous1] = max(minChance, player2.strategy[previous1] - 0.1) #Player2 decreases their chance to cooperate in the future as they have been punished for cooperating\n",
    "        elif current1 == \"C\" and current2 == \"D\": #If player1 cooperates and player2 defects\n",
    "            player1.roundFitness += 0 # Player1 gets 0 points\n",
    "            player2.roundFitness += 3 # Player2 gets 3 points\n",
    "            player1.strategy[previous2] = max(minChance, player1.strategy[previous2] - 0.1) #Player1 decreases their chance to cooperate in the future as they have been punished for cooperating\n",
    "            player2.strategy[previous1] = max(minChance, player2.strategy[previous1] - 0.1) #Player2 decreases their chance to cooperate in the future as they have been rewarded for defecting\n",
    "        elif current1 == \"C\" and current2 == \"C\": #If player1 and player2 cooperate\n",
    "            player1.roundFitness += 2 # They both get 2 points\n",
    "            player2.roundFitness += 2\n",
    "            player1.strategy[previous2] = min(maxChance, player1.strategy[previous2] + 0.1) #They both increase their chance to cooperate in the future as they are satisfied with cooperating\n",
    "            player2.strategy[previous1] = min(maxChance, player2.strategy[previous1] + 0.1)\n",
    "\n",
    "    #Adding strategys into a history list to keep track of how their strategy adapted overtime\n",
    "    player1.nhist.append(player1.strategy[None])\n",
    "    player1.chist.append(player1.strategy['C'])\n",
    "    player1.dhist.append(player1.strategy['D'])\n",
    "    player2.nhist.append(player2.strategy[None])\n",
    "    player2.chist.append(player2.strategy['C'])\n",
    "    player2.dhist.append(player2.strategy['D'])\n",
    "\n",
    "    return"
   ]
  },
  {
   "cell_type": "markdown",
   "metadata": {},
   "source": [
    "## Classes"
   ]
  },
  {
   "cell_type": "markdown",
   "metadata": {},
   "source": [
    "Every player in the game is defined by a player class being 1 of either `Generous`, `Selfish`, or `TitForTat`. Each one shares a base `Person` class that initiates anything that is common between all the classes. Aside from the base class, each player class has a different type and starting strategy for playing the game."
   ]
  },
  {
   "cell_type": "code",
   "execution_count": 35,
   "metadata": {},
   "outputs": [],
   "source": [
    "class Person():\n",
    "    def __init__(self, number):\n",
    "        self.identifier = number\n",
    "        self.totalFitness = 0\n",
    "        self.roundFitness = 0\n",
    "        self.opponent = None\n",
    "        #self.memory[10] = {}\n",
    "        self.nhist = []\n",
    "        self.chist = []\n",
    "        self.dhist = []\n",
    "\n",
    "class Generous(Person):\n",
    "    def __init__(self, number):\n",
    "        Person.__init__(self, number)\n",
    "        self.type = \"Generous\"\n",
    "        self.strategy = {None: 0.9, \"C\": 0.9, \"D\": 0.9}\n",
    "\n",
    "class Selfish(Person):\n",
    "    def __init__(self, number):\n",
    "        Person.__init__(self, number)\n",
    "        self.type = \"Selfish\"\n",
    "        self.strategy = {None: 0.1, \"C\": 0.1, \"D\": 0.1}\n",
    "\n",
    "class TitForTat(Person):\n",
    "    def __init__(self, number):\n",
    "        Person.__init__(self, number)\n",
    "        self.type = \"Tit For Tat\"\n",
    "        self.strategy = {None: 0.9, \"C\": 0.9, \"D\": 0.1}"
   ]
  },
  {
   "cell_type": "markdown",
   "metadata": {},
   "source": [
    "## Simulation"
   ]
  },
  {
   "cell_type": "code",
   "execution_count": 36,
   "metadata": {},
   "outputs": [],
   "source": [
    "#notable seeds: 78 (Generous starts to take advantage of cooperation and defends itself), 300 (Generous turns into a tit for tat),\n",
    "random.seed(300)"
   ]
  },
  {
   "cell_type": "markdown",
   "metadata": {},
   "source": [
    "To start the simulation, generate 100 players and randomly put them in one of the three player classes. Keeping count of each type of player so we can print later."
   ]
  },
  {
   "cell_type": "code",
   "execution_count": 37,
   "metadata": {},
   "outputs": [],
   "source": [
    "people = []\n",
    "selfishCount = 0\n",
    "generousCount = 0\n",
    "TFTCount = 0\n",
    "\n",
    "for i in range(1, 101):\n",
    "    type = random.randint(1, 3)\n",
    "    if type == 1:\n",
    "        person = Generous(i)\n",
    "        generousCount += 1\n",
    "    elif type == 2:\n",
    "        person = Selfish(i)\n",
    "        selfishCount += 1\n",
    "    elif type == 3:\n",
    "        person = TitForTat(i)\n",
    "        TFTCount += 1\n",
    "    people.append(person)"
   ]
  },
  {
   "cell_type": "markdown",
   "metadata": {},
   "source": [
    "Once all 100 players are initialized, you can start pairing the players against each other and put them through the game."
   ]
  },
  {
   "cell_type": "code",
   "execution_count": 38,
   "metadata": {},
   "outputs": [],
   "source": [
    "for i in range(1, 1001):\n",
    "    #print(\"Round\", i)\n",
    "    seen = []\n",
    "    for j in range(1, int(len(people)/2)+1):\n",
    "        while(True):\n",
    "            player1 = random.randint(0, len(people)-1)\n",
    "            if(player1 not in seen):\n",
    "                seen.append(player1)\n",
    "                break\n",
    "        while(True):\n",
    "            player2 = random.randint(0, len(people)-1)\n",
    "            if(player2 not in seen):\n",
    "                seen.append(player2)\n",
    "                break\n",
    "\n",
    "        people[player1].opponent = people[player2]\n",
    "        people[player2].opponent = people[player1]\n",
    "\n",
    "    played = []\n",
    "    for k in range(0, len(people)):\n",
    "        if people[k].identifier not in played:\n",
    "            playGame(people[k], people[k].opponent)\n",
    "            played.append(people[k].identifier)\n",
    "            played.append(people[k].opponent.identifier)\n",
    "    #printIndividualInfo(people, 93)\n",
    "\n",
    "    resetFitness(people)\n",
    "\n",
    "#printInfo(people)"
   ]
  },
  {
   "cell_type": "markdown",
   "metadata": {},
   "source": [
    "After all the rounds have been played, run through the player list to see who has the most points and who is declared the winner and best strategy."
   ]
  },
  {
   "cell_type": "code",
   "execution_count": 39,
   "metadata": {},
   "outputs": [],
   "source": [
    "highestFitness = 0\n",
    "fittestPersonIndex = 0\n",
    "stratNone = 0\n",
    "stratC = 0\n",
    "stratD = 0\n",
    "for n in range(0, len(people)):\n",
    "    stratNone += people[n].strategy[None]\n",
    "    stratC += people[n].strategy[\"C\"]\n",
    "    stratD += people[n].strategy[\"D\"]\n",
    "    if people[n].totalFitness >= highestFitness:\n",
    "        highestFitness = people[n].totalFitness\n",
    "        fittestPersonIndex = n"
   ]
  },
  {
   "cell_type": "markdown",
   "metadata": {},
   "source": [
    "Printing all the information relevant to the simulation to interpret what happened."
   ]
  },
  {
   "cell_type": "code",
   "execution_count": 40,
   "metadata": {},
   "outputs": [
    {
     "name": "stdout",
     "output_type": "stream",
     "text": [
      "Selfish:  31\n",
      "Generous:  34\n",
      "TitForTat:  35\n",
      "The winner overall is person 39 with 8341 points. Type: Generous\n",
      "Winning strategy: {none: 0.9 , C: 1.0 , D: 0.10000000000000003 }\n",
      "Average strategy: {none: 0.6519999999999997 , C: 0.6930000000000001 , D: 0.36800000000000005 }\n",
      "History elements for winner 39 :  1000 1000 1000\n"
     ]
    }
   ],
   "source": [
    "print(\"Selfish: \", selfishCount)\n",
    "print(\"Generous: \", generousCount)\n",
    "print(\"TitForTat: \", TFTCount)\n",
    "print(\"The winner overall is person\", people[fittestPersonIndex].identifier, \"with\", people[fittestPersonIndex].totalFitness, \"points. Type:\", people[fittestPersonIndex].type)\n",
    "print(\"Winning strategy: {none:\", people[fittestPersonIndex].strategy[None], \", C:\", people[fittestPersonIndex].strategy[\"C\"],\n",
    "          \", D:\", people[fittestPersonIndex].strategy[\"D\"], \"}\", )\n",
    "print(\"Average strategy: {none:\", stratNone/len(people), \", C:\", stratC/len(people),\n",
    "          \", D:\", stratD/len(people), \"}\", )\n",
    "\n",
    "\n",
    "print(\"History elements for winner\", people[fittestPersonIndex].identifier, \": \", len(people[fittestPersonIndex].nhist),len(people[fittestPersonIndex].chist), len(people[fittestPersonIndex].dhist))"
   ]
  }
 ],
 "metadata": {
  "kernelspec": {
   "display_name": "Python 3",
   "language": "python",
   "name": "python3"
  },
  "language_info": {
   "codemirror_mode": {
    "name": "ipython",
    "version": 3
   },
   "file_extension": ".py",
   "mimetype": "text/x-python",
   "name": "python",
   "nbconvert_exporter": "python",
   "pygments_lexer": "ipython3",
   "version": "3.6.4"
  }
 },
 "nbformat": 4,
 "nbformat_minor": 2
}
